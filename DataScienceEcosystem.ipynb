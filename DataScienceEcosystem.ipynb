{
 "cells": [
  {
   "cell_type": "markdown",
   "id": "0b2c87e4-b9b8-47c1-af79-9623465acf1a",
   "metadata": {},
   "source": [
    "# Data Science Tools and Ecosystems"
   ]
  },
  {
   "cell_type": "markdown",
   "id": "68a8d9c6-506b-4fcf-bc84-18142b3b2bb5",
   "metadata": {},
   "source": [
    "In this notebook, Data Science Tools and Ecosystem are summarized."
   ]
  },
  {
   "cell_type": "markdown",
   "id": "c81ab46b-a9bc-495c-b7d5-67bb905de3f2",
   "metadata": {},
   "source": [
    "**Objectives:**\n",
    "- List popular languages fo Data Science\n",
    "- List commonly used libraries\n",
    "- List of some Data Science tools\n",
    "- Provide simple arithmetic expressions"
   ]
  },
  {
   "cell_type": "markdown",
   "id": "2b805381-1faf-4e7b-a063-1237cedd29dd",
   "metadata": {},
   "source": [
    "Some of the popular languages that Data Scientists use are:\n",
    " \n",
    " 1. Python\n",
    " 2. R\n",
    " 3. Scala\n",
    " 4. Java\n",
    " 5. Julia\n",
    " 6. SQL\n",
    " "
   ]
  },
  {
   "cell_type": "markdown",
   "id": "68d72fc8-c7bc-4922-881f-bc50d403c50f",
   "metadata": {},
   "source": [
    "Some of the commonly used libraries used by Data Scientists include:\n",
    "\n",
    "1. Pandas\n",
    "2. NumPy\n",
    "3. Matplotlib\n",
    "4. scikit-learn\n",
    "5. keras\n",
    "6. TensorFlow\n",
    "7. PyTorch"
   ]
  },
  {
   "cell_type": "markdown",
   "id": "ae173204-da3e-4645-849d-94900897b4b6",
   "metadata": {},
   "source": [
    "| Data Science Tools |\n",
    "|:-------------------|\n",
    "| JupyterLab|\n",
    "| RStudio|\n",
    "| Apache Spark|\n"
   ]
  },
  {
   "cell_type": "markdown",
   "id": "a23193ad-43f9-45ef-8820-531f8831f3f2",
   "metadata": {},
   "source": [
    "### Below are a few examples of evaluating arithmetic expressions in Python"
   ]
  },
  {
   "cell_type": "code",
   "execution_count": 2,
   "id": "0a80ad33-4a7a-45fc-85b8-f6ebc176e80f",
   "metadata": {
    "tags": []
   },
   "outputs": [
    {
     "data": {
      "text/plain": [
       "17"
      ]
     },
     "execution_count": 2,
     "metadata": {},
     "output_type": "execute_result"
    }
   ],
   "source": [
    "# This a simple arithmetic expression to mutiply then add integers\n",
    "(3*4)+5"
   ]
  },
  {
   "cell_type": "code",
   "execution_count": 8,
   "id": "d5aefd82-f62c-4758-8de6-dc6563ec9b19",
   "metadata": {
    "tags": []
   },
   "outputs": [
    {
     "name": "stdout",
     "output_type": "stream",
     "text": [
      "3.3333333333333335\n"
     ]
    }
   ],
   "source": [
    "# This will convert 200 minutes to hours by diving by 60\n",
    "hours = 200/60\n",
    "print(hours)"
   ]
  },
  {
   "cell_type": "markdown",
   "id": "1decf591-0a7b-41ee-9bab-c55587cd5fbc",
   "metadata": {
    "tags": []
   },
   "source": [
    "## Author\n",
    "Kristina V."
   ]
  },
  {
   "cell_type": "code",
   "execution_count": null,
   "id": "cd3bcc50-13ab-4c53-a1a5-cc37c02d66f1",
   "metadata": {},
   "outputs": [],
   "source": []
  }
 ],
 "metadata": {
  "kernelspec": {
   "display_name": "Python 3 (ipykernel)",
   "language": "python",
   "name": "python3"
  },
  "language_info": {
   "codemirror_mode": {
    "name": "ipython",
    "version": 3
   },
   "file_extension": ".py",
   "mimetype": "text/x-python",
   "name": "python",
   "nbconvert_exporter": "python",
   "pygments_lexer": "ipython3",
   "version": "3.8.2"
  }
 },
 "nbformat": 4,
 "nbformat_minor": 5
}
